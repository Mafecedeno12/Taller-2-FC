{
  "nbformat": 4,
  "nbformat_minor": 0,
  "metadata": {
    "colab": {
      "provenance": [],
      "collapsed_sections": [],
      "include_colab_link": true
    },
    "kernelspec": {
      "name": "python3",
      "display_name": "Python 3"
    },
    "language_info": {
      "name": "python"
    }
  },
  "cells": [
    {
      "cell_type": "markdown",
      "metadata": {
        "id": "view-in-github",
        "colab_type": "text"
      },
      "source": [
        "<a href=\"https://colab.research.google.com/github/Mafecedeno12/Taller-2-FC/blob/main/Finanzas_Comptacionales_Taller_2.ipynb\" target=\"_parent\"><img src=\"https://colab.research.google.com/assets/colab-badge.svg\" alt=\"Open In Colab\"/></a>"
      ]
    },
    {
      "cell_type": "markdown",
      "source": [
        "### UNIVERSIDAD EXTERNADO DE COLOMBIA\n",
        "### FINANZAS COMPUTACIONALES\n",
        "### TALLER 2\n",
        "### MELANIE CANDIL, MARIA FERNANDA CEDEÑO Y ANA ACOSTA"
      ],
      "metadata": {
        "id": "skVDsWgLXwws"
      }
    },
    {
      "cell_type": "code",
      "execution_count": null,
      "metadata": {
        "id": "cF0IvDawXwN1",
        "colab": {
          "base_uri": "https://localhost:8080/"
        },
        "outputId": "eeae7a2f-d67f-4e5a-8437-34997df87b15"
      },
      "outputs": [
        {
          "output_type": "stream",
          "name": "stdout",
          "text": [
            "Looking in indexes: https://pypi.org/simple, https://us-python.pkg.dev/colab-wheels/public/simple/\n",
            "Collecting yfinance\n",
            "  Downloading yfinance-0.1.74-py2.py3-none-any.whl (27 kB)\n",
            "Requirement already satisfied: numpy>=1.15 in /usr/local/lib/python3.7/dist-packages (from yfinance) (1.21.6)\n",
            "Requirement already satisfied: lxml>=4.5.1 in /usr/local/lib/python3.7/dist-packages (from yfinance) (4.9.1)\n",
            "Requirement already satisfied: pandas>=0.24.0 in /usr/local/lib/python3.7/dist-packages (from yfinance) (1.3.5)\n",
            "Requirement already satisfied: multitasking>=0.0.7 in /usr/local/lib/python3.7/dist-packages (from yfinance) (0.0.11)\n",
            "Collecting requests>=2.26\n",
            "  Downloading requests-2.28.1-py3-none-any.whl (62 kB)\n",
            "\u001b[K     |████████████████████████████████| 62 kB 1.2 MB/s \n",
            "\u001b[?25hRequirement already satisfied: python-dateutil>=2.7.3 in /usr/local/lib/python3.7/dist-packages (from pandas>=0.24.0->yfinance) (2.8.2)\n",
            "Requirement already satisfied: pytz>=2017.3 in /usr/local/lib/python3.7/dist-packages (from pandas>=0.24.0->yfinance) (2022.2.1)\n",
            "Requirement already satisfied: six>=1.5 in /usr/local/lib/python3.7/dist-packages (from python-dateutil>=2.7.3->pandas>=0.24.0->yfinance) (1.15.0)\n",
            "Requirement already satisfied: urllib3<1.27,>=1.21.1 in /usr/local/lib/python3.7/dist-packages (from requests>=2.26->yfinance) (1.24.3)\n",
            "Requirement already satisfied: charset-normalizer<3,>=2 in /usr/local/lib/python3.7/dist-packages (from requests>=2.26->yfinance) (2.1.1)\n",
            "Requirement already satisfied: idna<4,>=2.5 in /usr/local/lib/python3.7/dist-packages (from requests>=2.26->yfinance) (2.10)\n",
            "Requirement already satisfied: certifi>=2017.4.17 in /usr/local/lib/python3.7/dist-packages (from requests>=2.26->yfinance) (2022.6.15)\n",
            "Installing collected packages: requests, yfinance\n",
            "  Attempting uninstall: requests\n",
            "    Found existing installation: requests 2.23.0\n",
            "    Uninstalling requests-2.23.0:\n",
            "      Successfully uninstalled requests-2.23.0\n",
            "Successfully installed requests-2.28.1 yfinance-0.1.74\n"
          ]
        }
      ],
      "source": [
        "# Se importan las librerías\n",
        "import pandas as pd\n",
        "import numpy as np\n",
        "from scipy import stats\n",
        "from matplotlib import pyplot as plt\n",
        "import seaborn as sbn\n",
        "import warnings\n",
        "warnings.filterwarnings(\"ignore\")\n",
        "import scipy.stats as stats\n",
        "import pylab as py\n",
        "from scipy.optimize import minimize\n",
        "from scipy.optimize import linprog\n",
        "from matplotlib.patches import Polygon\n",
        "import numpy as np\n",
        "import pandas as pd\n",
        "import matplotlib.pyplot as plt\n",
        "from scipy.optimize import minimize\n",
        "from scipy.optimize import linprog\n",
        "import cvxpy as cp\n",
        "from scipy import stats\n",
        "%pip install yfinance\n",
        "import yfinance as yf\n",
        "import warnings\n",
        "warnings.filterwarnings(\"ignore\")"
      ]
    },
    {
      "cell_type": "markdown",
      "source": [
        " 1. **Dibujar la región factible el siguiente problema de programación lineal (LP) con dos variables:**\n",
        "$$ \\max_{\\{ x_1,x_2 \\} } z =  2 x_1 - x_2 $$\n",
        "$$ \\text{s.t.}\\ x_1 +  x_2 \\geq 1 $$\n",
        "$$  x_1 -  x_2 \\leq 0 $$\n",
        "$$ 3 x_1 +  x_2 \\leq 6 $$\n",
        "$$ x_1,\\ x_2 \\geq 0 $$\n",
        "\n"
      ],
      "metadata": {
        "id": "CzNmQJeDKyas"
      }
    },
    {
      "cell_type": "code",
      "source": [
        "from matplotlib.patches import Polygon\n",
        "fig, ax = plt.subplots(figsize=(8, 6))\n",
        "ax.grid()\n",
        "\n",
        "# Dibujar lineas de restricción\n",
        "ax.hlines(0, -1, 5)\n",
        "ax.vlines(0, -1, 8)\n",
        "ax.plot(np.linspace(-1, 5, 100), 1-1*np.linspace(-1, 5, 100), color=\"c\")\n",
        "ax.plot(np.linspace(-1, 5, 100), np.linspace(-1, 5, 100), color=\"c\")\n",
        "ax.plot(np.linspace(-1, 5, 100), 6-3*np.linspace(-1, 5, 100), color=\"c\")\n",
        "ax.text(5, -3, \"$x_1 + x_2 \\geq 1$\", size=12)\n",
        "ax.text(5, 5, \"$x_1 - x_2 \\leq 0$\", size=12)\n",
        "ax.text(-1.25, 10, \"$3x_1 + x_2 \\leq 6$\", size=12)\n",
        "ax.text(0.25, -1.5, \"$x_1 \\geq 0$\", size=12) \n",
        "ax.text(-0.75, 2.5, \"$x_2 \\geq 0$\", size=12) \n",
        "\n",
        "# Dibujar la región Factible\n",
        "feasible_set = Polygon(np.array([[0, 1], \n",
        "                                 [0.5, 0.5], \n",
        "                                 [1.5, 1.5], \n",
        "                                 [0, 6]]), \n",
        "                       color=\"cyan\")\n",
        "ax.add_patch(feasible_set)\n",
        "\n",
        "\n",
        "# Dibujar el punto óptimo\n",
        "ax.plot(1.5, 1.5, \"*\", color=\"black\")\n",
        "ax.text(1.5, 1.5, \"Punto Óptimo\", size=12)\n",
        "\n",
        "plt.show()\n"
      ],
      "metadata": {
        "id": "_3FSTfjIKveB",
        "colab": {
          "base_uri": "https://localhost:8080/",
          "height": 387
        },
        "outputId": "69e2695f-88d6-4dcf-c827-21d2fe512587"
      },
      "execution_count": null,
      "outputs": [
        {
          "output_type": "display_data",
          "data": {
            "text/plain": [
              "<Figure size 576x432 with 1 Axes>"
            ],
            "image/png": "[encoded data removed]"
          },
          "metadata": {
            "needs_background": "light"
          }
        }
      ]
    },
    {
      "cell_type": "markdown",
      "source": [
        "2.**Usted desea invertir la suma de $80 millones en cuatro fondos mutuos que tienen diferentes retornos esperados (E(R)), así como diferentes ponderaciones en acciones de capitalización grande, mediana y pequeña, como muestra la siguiente tabla**:"
      ],
      "metadata": {
        "id": "6k68kZMVNJse"
      }
    },
    {
      "cell_type": "markdown",
      "source": [
        "![image.png](data:image/png;base64,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)"
      ],
      "metadata": {
        "id": "FqD9VNw1a_Wh"
      }
    },
    {
      "cell_type": "markdown",
      "source": [
        "**La asignación anterior debe contener al menos un 35 % de acciones de gran capitalización, un 30% de mediana capitalización y un 15% de acciones de pequeña capitalización. Encuentre una asignación factible con el retorno esperado más alto, bajo el supuesto de que solo se le permite mantener posiciones largas en los fondos. Para ello, formule y resuelva el problema de programación lineal, bajo las siguientes restricciones**:\n",
        "\n",
        "![image.png](data:image/png;base64,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)\n",
        "\n",
        "**Nota: resuelva el problema anterior usando las librerías de Linprog y CVXPY de Python.Además, construya un archivo de Excel para comparar los resultados**."
      ],
      "metadata": {
        "id": "nmDUxNSbBLss"
      }
    },
    {
      "cell_type": "code",
      "source": [
        "#LINPROG\n",
        "c = np.array([0.1,0.15,0.16,0.08])\n",
        "A = np.array([[1,1,1,1]])\n",
        "b = np.array([80])\n",
        "\n",
        "D = np.array([[0.5,0.3,0.25,0.6],\n",
        "              [0.3,0.1,0.4,0.2],\n",
        "              [0.2,0.6,0.35,0.2]])\n",
        "d = np.array([28,24,12])\n",
        "\n",
        "resultado = linprog(-c,A_ub=-D,b_ub=-d,A_eq=A,b_eq=b, method='simplex')\n",
        "resultado\n",
        "#x.value"
      ],
      "metadata": {
        "colab": {
          "base_uri": "https://localhost:8080/"
        },
        "id": "lD4MNaAda_lA",
        "outputId": "7f0167dc-b923-4579-dcb6-74efa0156eed"
      },
      "execution_count": null,
      "outputs": [
        {
          "output_type": "execute_result",
          "data": {
            "text/plain": [
              "     con: array([0.])\n",
              "     fun: -10.989473684210527\n",
              " message: 'Optimization terminated successfully.'\n",
              "     nit: 7\n",
              "   slack: array([-3.55271368e-15, -3.55271368e-15,  1.60000000e+01])\n",
              "  status: 0\n",
              " success: True\n",
              "       x: array([ 0.        , 12.63157895, 46.31578947, 21.05263158])"
            ]
          },
          "metadata": {},
          "execution_count": 6
        }
      ]
    },
    {
      "cell_type": "code",
      "source": [
        "#CVXPY\n",
        "import cvxpy as cp\n",
        "# Construct the problem.\n",
        "n = 4\n",
        "x = cp.Variable(n)\n",
        "\n",
        "objective = cp.Maximize(c.T @ x )\n",
        "constraints = [A @ x == b,D @ x >= d, x >=0 ]\n",
        "prob = cp.Problem(objective, constraints)\n",
        "\n",
        "# The optimal objective value is returned by `prob.solve()`.\n",
        "result = prob.solve()\n",
        "# The optimal value for x is stored in `x.value`.\n",
        "round(pd.DataFrame(x.value),4)"
      ],
      "metadata": {
        "colab": {
          "base_uri": "https://localhost:8080/",
          "height": 175
        },
        "id": "pC6T01Ua_n5s",
        "outputId": "e510946f-7041-4058-89a3-f0a179cf8b0c"
      },
      "execution_count": null,
      "outputs": [
        {
          "output_type": "execute_result",
          "data": {
            "text/plain": [
              "         0\n",
              "0   0.0000\n",
              "1  12.6316\n",
              "2  46.3158\n",
              "3  21.0526"
            ],
            "text/html": [
              "\n",
              "  <div id=\"df-aeee8f9c-b9e7-4926-83ad-822f4714d65f\">\n",
              "    <div class=\"colab-df-container\">\n",
              "      <div>\n",
              "<style scoped>\n",
              "    .dataframe tbody tr th:only-of-type {\n",
              "        vertical-align: middle;\n",
              "    }\n",
              "\n",
              "    .dataframe tbody tr th {\n",
              "        vertical-align: top;\n",
              "    }\n",
              "\n",
              "    .dataframe thead th {\n",
              "        text-align: right;\n",
              "    }\n",
              "</style>\n",
              "<table border=\"1\" class=\"dataframe\">\n",
              "  <thead>\n",
              "    <tr style=\"text-align: right;\">\n",
              "      <th></th>\n",
              "      <th>0</th>\n",
              "    </tr>\n",
              "  </thead>\n",
              "  <tbody>\n",
              "    <tr>\n",
              "      <th>0</th>\n",
              "      <td>0.0000</td>\n",
              "    </tr>\n",
              "    <tr>\n",
              "      <th>1</th>\n",
              "      <td>12.6316</td>\n",
              "    </tr>\n",
              "    <tr>\n",
              "      <th>2</th>\n",
              "      <td>46.3158</td>\n",
              "    </tr>\n",
              "    <tr>\n",
              "      <th>3</th>\n",
              "      <td>21.0526</td>\n",
              "    </tr>\n",
              "  </tbody>\n",
              "</table>\n",
              "</div>\n",
              "      <button class=\"colab-df-convert\" onclick=\"convertToInteractive('df-aeee8f9c-b9e7-4926-83ad-822f4714d65f')\"\n",
              "              title=\"Convert this dataframe to an interactive table.\"\n",
              "              style=\"display:none;\">\n",
              "        \n",
              "  <svg xmlns=\"http://www.w3.org/2000/svg\" height=\"24px\"viewBox=\"0 0 24 24\"\n",
              "       width=\"24px\">\n",
              "    <path d=\"M0 0h24v24H0V0z\" fill=\"none\"/>\n",
              "    <path d=\"M18.56 5.44l.94 2.06.94-2.06 2.06-.94-2.06-.94-.94-2.06-.94 2.06-2.06.94zm-11 1L8.5 8.5l.94-2.06 2.06-.94-2.06-.94L8.5 2.5l-.94 2.06-2.06.94zm10 10l.94 2.06.94-2.06 2.06-.94-2.06-.94-.94-2.06-.94 2.06-2.06.94z\"/><path d=\"M17.41 7.96l-1.37-1.37c-.4-.4-.92-.59-1.43-.59-.52 0-1.04.2-1.43.59L10.3 9.45l-7.72 7.72c-.78.78-.78 2.05 0 2.83L4 21.41c.39.39.9.59 1.41.59.51 0 1.02-.2 1.41-.59l7.78-7.78 2.81-2.81c.8-.78.8-2.07 0-2.86zM5.41 20L4 18.59l7.72-7.72 1.47 1.35L5.41 20z\"/>\n",
              "  </svg>\n",
              "      </button>\n",
              "      \n",
              "  <style>\n",
              "    .colab-df-container {\n",
              "      display:flex;\n",
              "      flex-wrap:wrap;\n",
              "      gap: 12px;\n",
              "    }\n",
              "\n",
              "    .colab-df-convert {\n",
              "      background-color: #E8F0FE;\n",
              "      border: none;\n",
              "      border-radius: 50%;\n",
              "      cursor: pointer;\n",
              "      display: none;\n",
              "      fill: #1967D2;\n",
              "      height: 32px;\n",
              "      padding: 0 0 0 0;\n",
              "      width: 32px;\n",
              "    }\n",
              "\n",
              "    .colab-df-convert:hover {\n",
              "      background-color: #E2EBFA;\n",
              "      box-shadow: 0px 1px 2px rgba(60, 64, 67, 0.3), 0px 1px 3px 1px rgba(60, 64, 67, 0.15);\n",
              "      fill: #174EA6;\n",
              "    }\n",
              "\n",
              "    [theme=dark] .colab-df-convert {\n",
              "      background-color: #3B4455;\n",
              "      fill: #D2E3FC;\n",
              "    }\n",
              "\n",
              "    [theme=dark] .colab-df-convert:hover {\n",
              "      background-color: #434B5C;\n",
              "      box-shadow: 0px 1px 3px 1px rgba(0, 0, 0, 0.15);\n",
              "      filter: drop-shadow(0px 1px 2px rgba(0, 0, 0, 0.3));\n",
              "      fill: #FFFFFF;\n",
              "    }\n",
              "  </style>\n",
              "\n",
              "      <script>\n",
              "        const buttonEl =\n",
              "          document.querySelector('#df-aeee8f9c-b9e7-4926-83ad-822f4714d65f button.colab-df-convert');\n",
              "        buttonEl.style.display =\n",
              "          google.colab.kernel.accessAllowed ? 'block' : 'none';\n",
              "\n",
              "        async function convertToInteractive(key) {\n",
              "          const element = document.querySelector('#df-aeee8f9c-b9e7-4926-83ad-822f4714d65f');\n",
              "          const dataTable =\n",
              "            await google.colab.kernel.invokeFunction('convertToInteractive',\n",
              "                                                     [key], {});\n",
              "          if (!dataTable) return;\n",
              "\n",
              "          const docLinkHtml = 'Like what you see? Visit the ' +\n",
              "            '<a target=\"_blank\" href=https://colab.research.google.com/notebooks/data_table.ipynb>data table notebook</a>'\n",
              "            + ' to learn more about interactive tables.';\n",
              "          element.innerHTML = '';\n",
              "          dataTable['output_type'] = 'display_data';\n",
              "          await google.colab.output.renderOutput(dataTable, element);\n",
              "          const docLink = document.createElement('div');\n",
              "          docLink.innerHTML = docLinkHtml;\n",
              "          element.appendChild(docLink);\n",
              "        }\n",
              "      </script>\n",
              "    </div>\n",
              "  </div>\n",
              "  "
            ]
          },
          "metadata": {},
          "execution_count": 7
        }
      ]
    },
    {
      "cell_type": "code",
      "source": [],
      "metadata": {
        "id": "Z2M85PEWckCQ"
      },
      "execution_count": null,
      "outputs": []
    },
    {
      "cell_type": "markdown",
      "source": [
        "Lasignación factible con el retorno esperado más alto, bajo el supuesto de que\n",
        "solo se le permite mantener posiciones largas en los fondos es invertir 0 en el fondo 1, 12.6316 Millones en el fondo 2, 46.3158 Millones en el fondo 3 y 21.0526 Millones en el fondo 4."
      ],
      "metadata": {
        "id": "YoWfF1SpaAQj"
      }
    },
    {
      "cell_type": "markdown",
      "source": [
        "3. **La empresa XYZ se enfrente al siguiente problema de financiación a corto plazo. Las\n",
        "cifras están expresadas en millones** ($).\n",
        "\n",
        "![image.png](data:image/png;base64,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)\n",
        "\n",
        "**Además, se sabe que la empresa cuenta con las siguientes fuentes de recursos**:\n",
        "• **Una línea de crédito de hasta $100 a una tasa de interés del 1% mensual.\n",
        "• Puede emitir papel comercial a 90 días con un interés total del 2% por un período de 3 meses.\n",
        "• Todos los meses se pueden invertir los fondos sobrantes a una tasa de interés del 0,3% mensual. Por ejemplo, la empresa podría hacer un depósito bancario que le reconoce esa tasa.\n",
        "\n",
        "Sobre este problema, la empresa desea saber si: ¿usar la línea de crédito en algunos de los\n",
        "meses le representa un alto costo? si es así ¿cuándo debería usarla? ¿cuánto cuesta? ¿qué\n",
        "pagos de intereses tendrá que hacer entre enero y junio? etc... Para responder a estos\n",
        "interrogantes, la empresa puede formular y resolver un problema LP de forma rápida y\n",
        "sencilla. Para la formulación del problema de LP, tenga en cuenta:\n",
        "Variables:\n",
        "xj: monto dispuesto a pedir en la línea de crédito en el mes j, para j = 1,2,3,4,5.\n",
        "yj: monto emitido en el papel comercial en el mes j, para j = 1,2,3.\n",
        "zj: exceso de fondos (FC) en el mes j, para j = 1,2,3,4,5,6.\n",
        "Objetivo: Maximizar el exceso de fondos (FC) en el mes 6 (Jun):máx z6\n",
        "Restricciones: Restricciones de saldo de caja en cada mes y límites en xj\n",
        ", yj y z \n",
        "![image.png](data:image/png;base64,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)\n",
        "\n",
        "\n",
        "\n",
        "Nota: resuelva el problema anterior usando las librerías de Linprog y CVXPY de Python.\n",
        "Además, construya un archivo de Excel para comparar los resultados."
      ],
      "metadata": {
        "id": "eX0OcimI3FgL"
      }
    },
    {
      "cell_type": "code",
      "source": [
        "b = np.array([150, 100, -200, 200, -50, -300])\n",
        "c = np.array([0,0,0,0,0,0,0,0,0,0,0,0,0,1]) #Función objetivo\n",
        "rx = np.array([1.01])  #tasa del crédito\n",
        "ry = np.array([1.02]) #Tasa del bono\n",
        "rz = np.array([1.003]) #Tasa excedente\n",
        "A = np.array([[1,0,0,0,0, 1,0,0, -1,0,0,0,0,0],\n",
        "              [-rx,1,0,0,0, 0,1,0, rz,-1,0,0,0,0],\n",
        "              [0,-rx,1,0,0, 0,0,1, 0,rz,-1,0,0,0],\n",
        "              [0,0,-rx,1,0, -ry,0,0, 0,0,rz,-1,0,0],\n",
        "              [0,0,0,-rx,1, 0,-ry,0, 0,0,0,rz,-1,0],\n",
        "              [0,0,0,0,-rx, 0,0,-ry, 0,0,0,0,rz,-1]])\n",
        "\n",
        "#Solución con cvxpy\n",
        "n = len(c) # # de elementos que requiere el vector c\n",
        "x = cp.Variable(n) #Mismo tamaño de c porque se debe operar x con c\n",
        "\n",
        "objective = cp.Maximize(c.T @ x )\n",
        "constraints = [A @ x == b, x>=0]\n",
        "prob = cp.Problem(objective, constraints)\n",
        "\n",
        "# The optimal objective value is returned by `prob.solve()`.\n",
        "result = prob.solve()\n",
        "# The optimal value for x is stored in `x.value`.\n",
        "sol = round(pd.DataFrame(x.value),6)\n",
        "sol"
      ],
      "metadata": {
        "id": "aie1Iwz84uuJ",
        "colab": {
          "base_uri": "https://localhost:8080/",
          "height": 488
        },
        "outputId": "1200f356-d832-4303-d645-0d0233a8828f"
      },
      "execution_count": null,
      "outputs": [
        {
          "output_type": "execute_result",
          "data": {
            "text/plain": [
              "             0\n",
              "0     0.000001\n",
              "1    42.686747\n",
              "2     0.000000\n",
              "3     0.000000\n",
              "4     8.459517\n",
              "5   150.000000\n",
              "6    57.313253\n",
              "7   195.057783\n",
              "8     0.000001\n",
              "9     0.000000\n",
              "10  351.944169\n",
              "11    0.000001\n",
              "12    0.000000\n",
              "13   92.496949"
            ],
            "text/html": [
              "\n",
              "  <div id=\"df-c6ca372c-8ceb-4c4e-b051-853cb8db6854\">\n",
              "    <div class=\"colab-df-container\">\n",
              "      <div>\n",
              "<style scoped>\n",
              "    .dataframe tbody tr th:only-of-type {\n",
              "        vertical-align: middle;\n",
              "    }\n",
              "\n",
              "    .dataframe tbody tr th {\n",
              "        vertical-align: top;\n",
              "    }\n",
              "\n",
              "    .dataframe thead th {\n",
              "        text-align: right;\n",
              "    }\n",
              "</style>\n",
              "<table border=\"1\" class=\"dataframe\">\n",
              "  <thead>\n",
              "    <tr style=\"text-align: right;\">\n",
              "      <th></th>\n",
              "      <th>0</th>\n",
              "    </tr>\n",
              "  </thead>\n",
              "  <tbody>\n",
              "    <tr>\n",
              "      <th>0</th>\n",
              "      <td>0.000001</td>\n",
              "    </tr>\n",
              "    <tr>\n",
              "      <th>1</th>\n",
              "      <td>42.686747</td>\n",
              "    </tr>\n",
              "    <tr>\n",
              "      <th>2</th>\n",
              "      <td>0.000000</td>\n",
              "    </tr>\n",
              "    <tr>\n",
              "      <th>3</th>\n",
              "      <td>0.000000</td>\n",
              "    </tr>\n",
              "    <tr>\n",
              "      <th>4</th>\n",
              "      <td>8.459517</td>\n",
              "    </tr>\n",
              "    <tr>\n",
              "      <th>5</th>\n",
              "      <td>150.000000</td>\n",
              "    </tr>\n",
              "    <tr>\n",
              "      <th>6</th>\n",
              "      <td>57.313253</td>\n",
              "    </tr>\n",
              "    <tr>\n",
              "      <th>7</th>\n",
              "      <td>195.057783</td>\n",
              "    </tr>\n",
              "    <tr>\n",
              "      <th>8</th>\n",
              "      <td>0.000001</td>\n",
              "    </tr>\n",
              "    <tr>\n",
              "      <th>9</th>\n",
              "      <td>0.000000</td>\n",
              "    </tr>\n",
              "    <tr>\n",
              "      <th>10</th>\n",
              "      <td>351.944169</td>\n",
              "    </tr>\n",
              "    <tr>\n",
              "      <th>11</th>\n",
              "      <td>0.000001</td>\n",
              "    </tr>\n",
              "    <tr>\n",
              "      <th>12</th>\n",
              "      <td>0.000000</td>\n",
              "    </tr>\n",
              "    <tr>\n",
              "      <th>13</th>\n",
              "      <td>92.496949</td>\n",
              "    </tr>\n",
              "  </tbody>\n",
              "</table>\n",
              "</div>\n",
              "      <button class=\"colab-df-convert\" onclick=\"convertToInteractive('df-c6ca372c-8ceb-4c4e-b051-853cb8db6854')\"\n",
              "              title=\"Convert this dataframe to an interactive table.\"\n",
              "              style=\"display:none;\">\n",
              "        \n",
              "  <svg xmlns=\"http://www.w3.org/2000/svg\" height=\"24px\"viewBox=\"0 0 24 24\"\n",
              "       width=\"24px\">\n",
              "    <path d=\"M0 0h24v24H0V0z\" fill=\"none\"/>\n",
              "    <path d=\"M18.56 5.44l.94 2.06.94-2.06 2.06-.94-2.06-.94-.94-2.06-.94 2.06-2.06.94zm-11 1L8.5 8.5l.94-2.06 2.06-.94-2.06-.94L8.5 2.5l-.94 2.06-2.06.94zm10 10l.94 2.06.94-2.06 2.06-.94-2.06-.94-.94-2.06-.94 2.06-2.06.94z\"/><path d=\"M17.41 7.96l-1.37-1.37c-.4-.4-.92-.59-1.43-.59-.52 0-1.04.2-1.43.59L10.3 9.45l-7.72 7.72c-.78.78-.78 2.05 0 2.83L4 21.41c.39.39.9.59 1.41.59.51 0 1.02-.2 1.41-.59l7.78-7.78 2.81-2.81c.8-.78.8-2.07 0-2.86zM5.41 20L4 18.59l7.72-7.72 1.47 1.35L5.41 20z\"/>\n",
              "  </svg>\n",
              "      </button>\n",
              "      \n",
              "  <style>\n",
              "    .colab-df-container {\n",
              "      display:flex;\n",
              "      flex-wrap:wrap;\n",
              "      gap: 12px;\n",
              "    }\n",
              "\n",
              "    .colab-df-convert {\n",
              "      background-color: #E8F0FE;\n",
              "      border: none;\n",
              "      border-radius: 50%;\n",
              "      cursor: pointer;\n",
              "      display: none;\n",
              "      fill: #1967D2;\n",
              "      height: 32px;\n",
              "      padding: 0 0 0 0;\n",
              "      width: 32px;\n",
              "    }\n",
              "\n",
              "    .colab-df-convert:hover {\n",
              "      background-color: #E2EBFA;\n",
              "      box-shadow: 0px 1px 2px rgba(60, 64, 67, 0.3), 0px 1px 3px 1px rgba(60, 64, 67, 0.15);\n",
              "      fill: #174EA6;\n",
              "    }\n",
              "\n",
              "    [theme=dark] .colab-df-convert {\n",
              "      background-color: #3B4455;\n",
              "      fill: #D2E3FC;\n",
              "    }\n",
              "\n",
              "    [theme=dark] .colab-df-convert:hover {\n",
              "      background-color: #434B5C;\n",
              "      box-shadow: 0px 1px 3px 1px rgba(0, 0, 0, 0.15);\n",
              "      filter: drop-shadow(0px 1px 2px rgba(0, 0, 0, 0.3));\n",
              "      fill: #FFFFFF;\n",
              "    }\n",
              "  </style>\n",
              "\n",
              "      <script>\n",
              "        const buttonEl =\n",
              "          document.querySelector('#df-c6ca372c-8ceb-4c4e-b051-853cb8db6854 button.colab-df-convert');\n",
              "        buttonEl.style.display =\n",
              "          google.colab.kernel.accessAllowed ? 'block' : 'none';\n",
              "\n",
              "        async function convertToInteractive(key) {\n",
              "          const element = document.querySelector('#df-c6ca372c-8ceb-4c4e-b051-853cb8db6854');\n",
              "          const dataTable =\n",
              "            await google.colab.kernel.invokeFunction('convertToInteractive',\n",
              "                                                     [key], {});\n",
              "          if (!dataTable) return;\n",
              "\n",
              "          const docLinkHtml = 'Like what you see? Visit the ' +\n",
              "            '<a target=\"_blank\" href=https://colab.research.google.com/notebooks/data_table.ipynb>data table notebook</a>'\n",
              "            + ' to learn more about interactive tables.';\n",
              "          element.innerHTML = '';\n",
              "          dataTable['output_type'] = 'display_data';\n",
              "          await google.colab.output.renderOutput(dataTable, element);\n",
              "          const docLink = document.createElement('div');\n",
              "          docLink.innerHTML = docLinkHtml;\n",
              "          element.appendChild(docLink);\n",
              "        }\n",
              "      </script>\n",
              "    </div>\n",
              "  </div>\n",
              "  "
            ]
          },
          "metadata": {},
          "execution_count": 8
        }
      ]
    },
    {
      "cell_type": "markdown",
      "source": [
        "Se puede evidenciar que en el primer mes, con el fin de financarse la empresa tuvo que emitir bonos por 150, de igual manera en el segundo mes, por \t57.313253 y en el tercer mes por 195.057783. Se puede observar también que en el mes 1 hubo un excedente de 351.944169. De igual manera podemos evidenciar que la función objetivo de la empresa es de 92.496949\n",
        "\n",
        "\n"
      ],
      "metadata": {
        "id": "DAldGmEA2M7C"
      }
    },
    {
      "cell_type": "markdown",
      "source": [
        "Con linprog\n"
      ],
      "metadata": {
        "id": "FmgwDDiQ8Vg2"
      }
    },
    {
      "cell_type": "code",
      "source": [
        "c=np.array([0,0,0,0,0,0,0,0,0,0,0,0,0,1]) #Retorno esperado \n",
        "rx= np.array([1.01])# Tasa interés crédito\n",
        "ry= np.array([1.02])# Tasa interés bono\n",
        "rz= np.array([1.003])# Tasa rentabilidad\n",
        "A=np.array([[1,0,0,0,0, 1,0,0, -1,0,0,0,0,0],\n",
        "            [-rx,1,0,0,0, 0,1,0, rz,-1,0,0,0,0],\n",
        "            [0,-rx,1,0,0, 0,0,1, 0,rz,-1,0,0,0],\n",
        "            [0,0,-rx,1,0, -ry,0,0, 0,0,rz,-1,0,0],\n",
        "            [0,0,0,-rx,1, 0,-ry,0, 0,0,0,rz,-1,0],\n",
        "            [0,0,0,0,-rx, 0,0,-ry, 0,0,0,0,rz,-1]]) \n",
        "b=np.array([150,100,-200,200,-50,-300])\n",
        "\n",
        "\n",
        "resultado=linprog(-c,A_eq=A,b_eq=b,method='revised simplex') #c negativo por maximizar \n",
        "resultado"
      ],
      "metadata": {
        "id": "94OfCdzi8dvW",
        "colab": {
          "base_uri": "https://localhost:8080/"
        },
        "outputId": "de3235f4-894f-45b5-8c68-66301f7b00d3"
      },
      "execution_count": null,
      "outputs": [
        {
          "output_type": "execute_result",
          "data": {
            "text/plain": [
              "     con: array([ 2.84217094e-14, -1.42108547e-14, -5.68434189e-14,  2.84217094e-14,\n",
              "        0.00000000e+00,  0.00000000e+00])\n",
              "     fun: -92.49694915254233\n",
              " message: 'Optimization terminated successfully.'\n",
              "     nit: 6\n",
              "   slack: array([], dtype=float64)\n",
              "  status: 0\n",
              " success: True\n",
              "       x: array([  0.        ,  50.98039216,   0.        ,   0.        ,\n",
              "         0.        , 150.        ,  49.01960784, 203.43436358,\n",
              "         0.        ,   0.        , 351.9441675 ,   0.        ,\n",
              "         0.        ,  92.49694915])"
            ]
          },
          "metadata": {},
          "execution_count": 9
        }
      ]
    },
    {
      "cell_type": "markdown",
      "source": [
        "Al trabajar con lingprog, se evidencia que la copañía tuvo que obtener un crédito por 50.98039216. La empresa emitió bonos en el mes 1, 2 y 3 por 150, 49.01960784, 203.43436358 respectivamente.\n",
        "De igual manera, se puede observar que en el mes 3 hubo un excedente de efectivo de 351.9441675. La función objetivo es la misma:  92.49694915."
      ],
      "metadata": {
        "id": "sUoMLVMq6NzZ"
      }
    },
    {
      "cell_type": "markdown",
      "source": [
        "Punto 4"
      ],
      "metadata": {
        "id": "xACW3GX98jIa"
      }
    },
    {
      "cell_type": "code",
      "source": [
        "from numpy.core.fromnumeric import shape\n",
        "## Estimaciones para fdx\n",
        "# Información histórica para FDX\n",
        "fechai = \"2015-12-01\"\n",
        "fechaf = \"2020-12-31\"\n",
        "periodicidad = \"1Mo\"\n",
        "fdx = [\"FDX\"]\n",
        "p_fdx = yf.download(fdx,start=fechai,end=fechaf,interval=periodicidad)['Adj Close'].dropna()\n",
        "r_fdx = np.log(p_fdx/p_fdx.shift(1)).dropna()\n",
        "\n",
        "\n",
        "\n",
        "\n",
        "indice = yf.download([\"^GSPC\",\"USO\"],start=fechai,end=fechaf,interval=periodicidad)['Adj Close'].dropna()\n",
        "r_indice = np.log(indice/indice.shift(1)).dropna()\n",
        "r_indice.shape\n",
        "\n",
        "\n"
      ],
      "metadata": {
        "id": "MDoRhP8V8l-P",
        "colab": {
          "base_uri": "https://localhost:8080/"
        },
        "outputId": "2197eb00-718f-463d-ccf0-59036c184f1f"
      },
      "execution_count": null,
      "outputs": [
        {
          "output_type": "stream",
          "name": "stdout",
          "text": [
            "[*********************100%***********************]  1 of 1 completed\n",
            "[*********************100%***********************]  2 of 2 completed\n"
          ]
        },
        {
          "output_type": "execute_result",
          "data": {
            "text/plain": [
              "(60, 2)"
            ]
          },
          "metadata": {},
          "execution_count": 11
        }
      ]
    },
    {
      "cell_type": "code",
      "source": [
        "#la operación matricial igual a la operacion de los betas\n",
        "t = len(r_indice)\n",
        "unos = pd.DataFrame(np.repeat(1,t))\n",
        "r_indice2 = pd.DataFrame(r_indice)\n",
        "r_fdx2 = pd.DataFrame(r_fdx)\n",
        "variables = np.concatenate((unos,r_indice2),1)\n",
        "X = variables.T @ variables\n",
        "Xy = variables.T @ r_fdx\n",
        "Sol= np.linalg.solve(X,Xy)\n",
        "Sol"
      ],
      "metadata": {
        "id": "x5MbRClz8ude",
        "colab": {
          "base_uri": "https://localhost:8080/"
        },
        "outputId": "d4453444-90fe-48ea-87e0-6284fc15ad92"
      },
      "execution_count": null,
      "outputs": [
        {
          "output_type": "execute_result",
          "data": {
            "text/plain": [
              "array([-0.00329189,  0.00935156,  1.34792237])"
            ]
          },
          "metadata": {},
          "execution_count": 12
        }
      ]
    },
    {
      "cell_type": "code",
      "source": [
        "from sklearn.linear_model import LinearRegression\n",
        "lm = LinearRegression()\n",
        "model = lm.fit(pd.DataFrame(r_indice), pd.DataFrame(r_fdx))\n",
        "print(f'alpha = {model.intercept_}')\n",
        "print(f'betas = {model.coef_}')"
      ],
      "metadata": {
        "id": "SKboED1c8vUX",
        "colab": {
          "base_uri": "https://localhost:8080/"
        },
        "outputId": "3874c8c6-f92a-4a94-b9ec-4990d4c42bea"
      },
      "execution_count": null,
      "outputs": [
        {
          "output_type": "stream",
          "name": "stdout",
          "text": [
            "alpha = [-0.00329189]\n",
            "betas = [[0.00935156 1.34792237]]\n"
          ]
        }
      ]
    },
    {
      "cell_type": "markdown",
      "source": [
        "\n",
        "Seleccionamos el activo Fedex (FDX),el indice Standar & Poor's 500\n",
        "(GSPC) y United States Oil Fund, LP (USO) para realizar el ejercicio.\n",
        "B= 0-1b = (x TX)\n",
        "Podemos evidenciar que el alpha (retorno del activo) es negativo (-0.00329189), esto quiere decir que es menor de lo esperado, lo cual es bueno debido a que el activo tiene la oportunidad de crecer más.\n",
        "Con respecto al riesgo, podemos ver que con respecto al Standar & Poor's 500, el Beta es  menor a 1 (0.00935156), lo cual nos indica que el activo no es agresivo, es decir que una variación del mercado provocará una variación menor a este activo. Esto significa que este activo varía menos que el mercado y por lo tanto tiene un menor riesgo sistemático. Por el contrario, frente a (USO) el Beta es mayor a 1( 1.34792237), lo cual indica que el activo es agresivo, es decir, una variación del mercado provoca una variación mayor a este en el activo. Lo anterior es favorable cuando el mercado está en etapa de crecimiento más no cuando está en etapa de recesión, es por esto que este actoivo tiene un mayor riesgo sistemático.\n"
      ],
      "metadata": {
        "id": "kFanHqtg13L7"
      }
    },
    {
      "cell_type": "markdown",
      "source": [
        "Punto 5"
      ],
      "metadata": {
        "id": "M03sEr2a9PBI"
      }
    },
    {
      "cell_type": "code",
      "source": [
        "b = np.array([100, 200, 800, 100, 800, 1200])\n",
        "c = np.array([109, 94.8, 99.5, 93.1, 97.2, 92.9, 110, 104, 102, 95.2, 0, 0, 0, 0, 0, 0])\n",
        "A = np.array([[10, 7, 8, 6, 7, 5, 10, 8,7,100, -1, 0, 0, 0, 0, 0],\n",
        "              [10, 7, 8, 6, 7, 5, 10, 8, 7, 0, 1, -1, 0, 0, 0, 0],\n",
        "              [10, 7, 8, 6, 7, 5, 110,108,0,0, 0, 1, -1, 0, 0, 0],\n",
        "              [10, 7, 8, 6, 7, 105, 0, 0, 0,0, 0, 0, 1, -1, 0, 0],\n",
        "              [10, 7, 8, 106, 107, 0, 0,0,0,0, 0, 0, 0, 1, -1, 0],\n",
        "              [110, 107, 108, 0, 0, 0,0,0,0,0, 0, 0, 0, 0, 1, -1]])\n",
        "\n",
        "\n",
        "#Solución con cvxpy\n",
        "n = len(c) # # de elementos que requiere el vector c\n",
        "x = cp.Variable(n) #Mismo tamaño de c porque se debe operar x con c\n",
        "\n",
        "objective = cp.Minimize(c.T @ x )\n",
        "constraints = [A @ x >= b, x>=0]\n",
        "prob = cp.Problem(objective, constraints)\n",
        "\n",
        "# The optimal objective value is returned by `prob.solve()`.\n",
        "result = prob.solve()\n",
        "# The optimal value for x is stored in `x.value`.\n",
        "sol = round(pd.DataFrame(x.value),4)\n",
        "sol"
      ],
      "metadata": {
        "id": "TrUpw2Iy9Li-",
        "colab": {
          "base_uri": "https://localhost:8080/",
          "height": 551
        },
        "outputId": "dc5c1db2-60dc-4c9c-9b36-1d73f19228af"
      },
      "execution_count": null,
      "outputs": [
        {
          "output_type": "execute_result",
          "data": {
            "text/plain": [
              "          0\n",
              "0    0.0000\n",
              "1   11.2150\n",
              "2    0.0000\n",
              "3    6.6338\n",
              "4    0.0000\n",
              "5    0.0000\n",
              "6    0.0000\n",
              "7    6.0087\n",
              "8   -0.0000\n",
              "9    0.0000\n",
              "10  66.3772\n",
              "11  32.7544\n",
              "12   0.0000\n",
              "13  18.3077\n",
              "14   0.0000\n",
              "15   0.0000"
            ],
            "text/html": [
              "\n",
              "  <div id=\"df-1045da39-a06a-4e5e-a052-d6ab68fdf70e\">\n",
              "    <div class=\"colab-df-container\">\n",
              "      <div>\n",
              "<style scoped>\n",
              "    .dataframe tbody tr th:only-of-type {\n",
              "        vertical-align: middle;\n",
              "    }\n",
              "\n",
              "    .dataframe tbody tr th {\n",
              "        vertical-align: top;\n",
              "    }\n",
              "\n",
              "    .dataframe thead th {\n",
              "        text-align: right;\n",
              "    }\n",
              "</style>\n",
              "<table border=\"1\" class=\"dataframe\">\n",
              "  <thead>\n",
              "    <tr style=\"text-align: right;\">\n",
              "      <th></th>\n",
              "      <th>0</th>\n",
              "    </tr>\n",
              "  </thead>\n",
              "  <tbody>\n",
              "    <tr>\n",
              "      <th>0</th>\n",
              "      <td>0.0000</td>\n",
              "    </tr>\n",
              "    <tr>\n",
              "      <th>1</th>\n",
              "      <td>11.2150</td>\n",
              "    </tr>\n",
              "    <tr>\n",
              "      <th>2</th>\n",
              "      <td>0.0000</td>\n",
              "    </tr>\n",
              "    <tr>\n",
              "      <th>3</th>\n",
              "      <td>6.6338</td>\n",
              "    </tr>\n",
              "    <tr>\n",
              "      <th>4</th>\n",
              "      <td>0.0000</td>\n",
              "    </tr>\n",
              "    <tr>\n",
              "      <th>5</th>\n",
              "      <td>0.0000</td>\n",
              "    </tr>\n",
              "    <tr>\n",
              "      <th>6</th>\n",
              "      <td>0.0000</td>\n",
              "    </tr>\n",
              "    <tr>\n",
              "      <th>7</th>\n",
              "      <td>6.0087</td>\n",
              "    </tr>\n",
              "    <tr>\n",
              "      <th>8</th>\n",
              "      <td>-0.0000</td>\n",
              "    </tr>\n",
              "    <tr>\n",
              "      <th>9</th>\n",
              "      <td>0.0000</td>\n",
              "    </tr>\n",
              "    <tr>\n",
              "      <th>10</th>\n",
              "      <td>66.3772</td>\n",
              "    </tr>\n",
              "    <tr>\n",
              "      <th>11</th>\n",
              "      <td>32.7544</td>\n",
              "    </tr>\n",
              "    <tr>\n",
              "      <th>12</th>\n",
              "      <td>0.0000</td>\n",
              "    </tr>\n",
              "    <tr>\n",
              "      <th>13</th>\n",
              "      <td>18.3077</td>\n",
              "    </tr>\n",
              "    <tr>\n",
              "      <th>14</th>\n",
              "      <td>0.0000</td>\n",
              "    </tr>\n",
              "    <tr>\n",
              "      <th>15</th>\n",
              "      <td>0.0000</td>\n",
              "    </tr>\n",
              "  </tbody>\n",
              "</table>\n",
              "</div>\n",
              "      <button class=\"colab-df-convert\" onclick=\"convertToInteractive('df-1045da39-a06a-4e5e-a052-d6ab68fdf70e')\"\n",
              "              title=\"Convert this dataframe to an interactive table.\"\n",
              "              style=\"display:none;\">\n",
              "        \n",
              "  <svg xmlns=\"http://www.w3.org/2000/svg\" height=\"24px\"viewBox=\"0 0 24 24\"\n",
              "       width=\"24px\">\n",
              "    <path d=\"M0 0h24v24H0V0z\" fill=\"none\"/>\n",
              "    <path d=\"M18.56 5.44l.94 2.06.94-2.06 2.06-.94-2.06-.94-.94-2.06-.94 2.06-2.06.94zm-11 1L8.5 8.5l.94-2.06 2.06-.94-2.06-.94L8.5 2.5l-.94 2.06-2.06.94zm10 10l.94 2.06.94-2.06 2.06-.94-2.06-.94-.94-2.06-.94 2.06-2.06.94z\"/><path d=\"M17.41 7.96l-1.37-1.37c-.4-.4-.92-.59-1.43-.59-.52 0-1.04.2-1.43.59L10.3 9.45l-7.72 7.72c-.78.78-.78 2.05 0 2.83L4 21.41c.39.39.9.59 1.41.59.51 0 1.02-.2 1.41-.59l7.78-7.78 2.81-2.81c.8-.78.8-2.07 0-2.86zM5.41 20L4 18.59l7.72-7.72 1.47 1.35L5.41 20z\"/>\n",
              "  </svg>\n",
              "      </button>\n",
              "      \n",
              "  <style>\n",
              "    .colab-df-container {\n",
              "      display:flex;\n",
              "      flex-wrap:wrap;\n",
              "      gap: 12px;\n",
              "    }\n",
              "\n",
              "    .colab-df-convert {\n",
              "      background-color: #E8F0FE;\n",
              "      border: none;\n",
              "      border-radius: 50%;\n",
              "      cursor: pointer;\n",
              "      display: none;\n",
              "      fill: #1967D2;\n",
              "      height: 32px;\n",
              "      padding: 0 0 0 0;\n",
              "      width: 32px;\n",
              "    }\n",
              "\n",
              "    .colab-df-convert:hover {\n",
              "      background-color: #E2EBFA;\n",
              "      box-shadow: 0px 1px 2px rgba(60, 64, 67, 0.3), 0px 1px 3px 1px rgba(60, 64, 67, 0.15);\n",
              "      fill: #174EA6;\n",
              "    }\n",
              "\n",
              "    [theme=dark] .colab-df-convert {\n",
              "      background-color: #3B4455;\n",
              "      fill: #D2E3FC;\n",
              "    }\n",
              "\n",
              "    [theme=dark] .colab-df-convert:hover {\n",
              "      background-color: #434B5C;\n",
              "      box-shadow: 0px 1px 3px 1px rgba(0, 0, 0, 0.15);\n",
              "      filter: drop-shadow(0px 1px 2px rgba(0, 0, 0, 0.3));\n",
              "      fill: #FFFFFF;\n",
              "    }\n",
              "  </style>\n",
              "\n",
              "      <script>\n",
              "        const buttonEl =\n",
              "          document.querySelector('#df-1045da39-a06a-4e5e-a052-d6ab68fdf70e button.colab-df-convert');\n",
              "        buttonEl.style.display =\n",
              "          google.colab.kernel.accessAllowed ? 'block' : 'none';\n",
              "\n",
              "        async function convertToInteractive(key) {\n",
              "          const element = document.querySelector('#df-1045da39-a06a-4e5e-a052-d6ab68fdf70e');\n",
              "          const dataTable =\n",
              "            await google.colab.kernel.invokeFunction('convertToInteractive',\n",
              "                                                     [key], {});\n",
              "          if (!dataTable) return;\n",
              "\n",
              "          const docLinkHtml = 'Like what you see? Visit the ' +\n",
              "            '<a target=\"_blank\" href=https://colab.research.google.com/notebooks/data_table.ipynb>data table notebook</a>'\n",
              "            + ' to learn more about interactive tables.';\n",
              "          element.innerHTML = '';\n",
              "          dataTable['output_type'] = 'display_data';\n",
              "          await google.colab.output.renderOutput(dataTable, element);\n",
              "          const docLink = document.createElement('div');\n",
              "          docLink.innerHTML = docLinkHtml;\n",
              "          element.appendChild(docLink);\n",
              "        }\n",
              "      </script>\n",
              "    </div>\n",
              "  </div>\n",
              "  "
            ]
          },
          "metadata": {},
          "execution_count": 15
        }
      ]
    },
    {
      "cell_type": "markdown",
      "source": [
        "2 4 y 8"
      ],
      "metadata": {
        "id": "cYsGhGf4fSvr"
      }
    },
    {
      "cell_type": "code",
      "source": [
        "result"
      ],
      "metadata": {
        "colab": {
          "base_uri": "https://localhost:8080/"
        },
        "id": "Ue5XFZhEr7am",
        "outputId": "71099bc4-7f2d-4388-ea83-f21ea8b18e00"
      },
      "execution_count": null,
      "outputs": [
        {
          "output_type": "execute_result",
          "data": {
            "text/plain": [
              "2305.691648469554"
            ]
          },
          "metadata": {},
          "execution_count": 16
        }
      ]
    }
  ]
}